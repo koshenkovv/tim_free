{
 "cells": [
  {
   "cell_type": "code",
   "execution_count": 37,
   "id": "6b07790e",
   "metadata": {},
   "outputs": [],
   "source": [
    "def ex1(n,h):\n",
    "    for i in range (h):\n",
    "        print(' '*(n-i)+\"*\"*i+'*'*n+\"*\"*i+' '*(n-i))"
   ]
  },
  {
   "cell_type": "code",
   "execution_count": 41,
   "id": "eaaa7e07",
   "metadata": {},
   "outputs": [
    {
     "name": "stdout",
     "output_type": "stream",
     "text": [
      "  **  \n",
      " **** \n",
      "******\n"
     ]
    }
   ],
   "source": [
    "ex1(2,3)"
   ]
  },
  {
   "cell_type": "code",
   "execution_count": 48,
   "id": "69cfa05a",
   "metadata": {},
   "outputs": [],
   "source": [
    "def ex2(s,h):\n",
    "    for i in range (h):\n",
    "        print( ' '*((s-i)*s)+\"*\"*(i*s)+'*'*s+ \"*\"*(i*s) + ' '*(s-i) )"
   ]
  },
  {
   "cell_type": "code",
   "execution_count": 49,
   "id": "5f422eea",
   "metadata": {},
   "outputs": [
    {
     "name": "stdout",
     "output_type": "stream",
     "text": [
      "    **  \n",
      "  ****** \n",
      "**********\n"
     ]
    }
   ],
   "source": [
    "ex2(2,3)"
   ]
  },
  {
   "cell_type": "code",
   "execution_count": null,
   "id": "5d7b1329",
   "metadata": {},
   "outputs": [],
   "source": []
  }
 ],
 "metadata": {
  "kernelspec": {
   "display_name": "Python 3 (ipykernel)",
   "language": "python",
   "name": "python3"
  },
  "language_info": {
   "codemirror_mode": {
    "name": "ipython",
    "version": 3
   },
   "file_extension": ".py",
   "mimetype": "text/x-python",
   "name": "python",
   "nbconvert_exporter": "python",
   "pygments_lexer": "ipython3",
   "version": "3.9.12"
  }
 },
 "nbformat": 4,
 "nbformat_minor": 5
}
