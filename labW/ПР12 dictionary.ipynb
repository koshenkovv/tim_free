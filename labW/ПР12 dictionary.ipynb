{
 "cells": [
  {
   "cell_type": "markdown",
   "id": "7b94c49f",
   "metadata": {},
   "source": [
    "Реализовать сортировку подсчетом."
   ]
  },
  {
   "cell_type": "code",
   "execution_count": 23,
   "id": "492c36a3",
   "metadata": {},
   "outputs": [],
   "source": [
    "def counting_sort(arr):\n",
    "    \n",
    "    max_val = max(arr)\n",
    "    min_val = min(arr)\n",
    "\n",
    "    range_of_elements = max_val - min_val + 1\n",
    "\n",
    "    count = [0] * range_of_elements\n",
    "    output = [0] * len(arr)\n",
    "\n",
    "    for i in range(len(arr)):\n",
    "        count[arr[i] - min_val] += 1\n",
    "\n",
    "    for i in range(1, len(count)):\n",
    "        count[i] += count[i - 1]\n",
    "\n",
    "    for i in range(len(arr) - 1, -1, -1):\n",
    "        output[count[arr[i] - min_val] - 1] = arr[i]\n",
    "        count[arr[i] - min_val] -= 1\n",
    "\n",
    "    return output"
   ]
  },
  {
   "cell_type": "code",
   "execution_count": 24,
   "id": "c0d3ee70",
   "metadata": {},
   "outputs": [
    {
     "name": "stdout",
     "output_type": "stream",
     "text": [
      "Sorted Array: [1, 2, 2, 3, 3, 4, 8]\n"
     ]
    }
   ],
   "source": [
    "arr = [4, 2, 2, 8, 3, 3, 1]\n",
    "sorted_arr = counting_sort(arr)\n",
    "print(\"Sorted Array:\", sorted_arr)"
   ]
  },
  {
   "cell_type": "markdown",
   "id": "e243a5b9",
   "metadata": {},
   "source": [
    "Напишите функцию to_dict(lst), которая принимает аргумент в виде\n",
    "списка и возвращает словарь, в котором каждый элемент списка является и\n",
    "ключом, и значением. Предполагается, что элементы списка будут\n",
    "соответствовать правилам задания ключей в словарях."
   ]
  },
  {
   "cell_type": "code",
   "execution_count": 25,
   "id": "65485686",
   "metadata": {},
   "outputs": [],
   "source": [
    "def to_dict(lst):\n",
    "    result = {}\n",
    "    for item in lst:\n",
    "        result[item] = item\n",
    "    return result\n"
   ]
  },
  {
   "cell_type": "code",
   "execution_count": 26,
   "id": "3711d165",
   "metadata": {
    "scrolled": true
   },
   "outputs": [
    {
     "name": "stdout",
     "output_type": "stream",
     "text": [
      "Dictionary: {'a': 'a', 'b': 'b', 'c': 'c', 1: 1, 2: 2, 3: 3}\n"
     ]
    }
   ],
   "source": [
    "lst = ['a', 'b', 'c', 1, 2, 3]\n",
    "dictionary = to_dict(lst)\n",
    "print(\"Dictionary:\", dictionary)"
   ]
  },
  {
   "cell_type": "markdown",
   "id": "f1ae32f5",
   "metadata": {},
   "source": [
    "Дана строка в виде случайной последовательности чисел от 0 до 9\n",
    "Требуется создать словарь, который в качестве ключей будет\n",
    "принимать данные числа (т. е. ключи будут типом int), а в качестве значений\n",
    "– количество этих чисел в имеющейся последовательности. Для построения\n",
    "словаря создайте функцию count_it(sequence), принимающую строку из цифр.\n",
    "Функция должна возвратить словарь из 3-х самых часто встречаемых чисел."
   ]
  },
  {
   "cell_type": "code",
   "execution_count": 27,
   "id": "3551fac8",
   "metadata": {},
   "outputs": [],
   "source": [
    "from collections import Counter\n",
    "\n",
    "def count_it(sequence):\n",
    "    sequence = [int(digit) for digit in sequence]\n",
    "    count = Counter(sequence)\n",
    "    most_common = count.most_common(3)\n",
    "\n",
    "    return {key: value for key, value in most_common}"
   ]
  },
  {
   "cell_type": "code",
   "execution_count": 28,
   "id": "af6f2234",
   "metadata": {},
   "outputs": [
    {
     "name": "stdout",
     "output_type": "stream",
     "text": [
      "Dictionary from 3 most common values: {0: 4, 3: 3, 6: 3}\n"
     ]
    }
   ],
   "source": [
    "sequence = \"123334556660000\"\n",
    "result = count_it(sequence)\n",
    "print(\"Dictionary from 3 most common values:\", result)"
   ]
  },
  {
   "cell_type": "markdown",
   "id": "c090f2c2",
   "metadata": {},
   "source": [
    "С помощью промежуточного этапа сортировки подсчетом решить\n",
    "Дано два числа X и Y без ведущих нулей. Необходимо проверить,\n",
    "можно ли получить одно число из другого перестановкой цифр."
   ]
  },
  {
   "cell_type": "code",
   "execution_count": 30,
   "id": "514311a8",
   "metadata": {},
   "outputs": [],
   "source": [
    "def can_form_from_another(x, y):\n",
    "    x_digits = [int(digit) for digit in str(x)]\n",
    "    y_digits = [int(digit) for digit in str(y)]\n",
    "\n",
    "    sorted_x_digits = counting_sort(x_digits)\n",
    "    sorted_y_digits = counting_sort(y_digits)\n",
    "\n",
    "    return sorted_x_digits == sorted_y_digits"
   ]
  },
  {
   "cell_type": "code",
   "execution_count": 32,
   "id": "0a2e7c40",
   "metadata": {},
   "outputs": [
    {
     "name": "stdout",
     "output_type": "stream",
     "text": [
      "Is it possible to get one number from another by rearranging the digits? True\n"
     ]
    }
   ],
   "source": [
    "x = 12345\n",
    "y = 54321\n",
    "result = can_form_from_another(x, y)\n",
    "print(\"Is it possible to get one number from another by rearranging the digits?\", result)"
   ]
  },
  {
   "cell_type": "markdown",
   "id": "f7d42d4b",
   "metadata": {},
   "source": [
    "На шахматной доске NxN находятся M ладей (ладья бьет клетки по\n",
    "той же вертикали или горизонтали до ближайшей занятой). Определите\n",
    "сколько пар ладей бьют друг друга. Ладьи задаются парой чисел I и J,\n",
    "обозначающие координаты клетки"
   ]
  },
  {
   "cell_type": "code",
   "execution_count": 33,
   "id": "0a76656d",
   "metadata": {},
   "outputs": [
    {
     "name": "stdout",
     "output_type": "stream",
     "text": [
      "Количество пар ладей, которые бьют друг друга: 4\n"
     ]
    }
   ],
   "source": [
    "def count_attacking_rook_pairs(n, rooks):\n",
    "    row_counts = [0] * n\n",
    "    col_counts = [0] * n\n",
    "\n",
    "    for row, col in rooks:\n",
    "        row_counts[row] += 1\n",
    "        col_counts[col] += 1\n",
    "\n",
    "    def count_pairs(counts):\n",
    "        pairs = 0\n",
    "        for count in counts:\n",
    "            pairs += count * (count - 1) // 2\n",
    "        return pairs\n",
    "\n",
    "    row_pairs = count_pairs(row_counts)\n",
    "    col_pairs = count_pairs(col_counts)\n",
    "\n",
    "    return row_pairs + col_pairs"
   ]
  },
  {
   "cell_type": "code",
   "execution_count": 36,
   "id": "fcbfd5d0",
   "metadata": {},
   "outputs": [
    {
     "name": "stdout",
     "output_type": "stream",
     "text": [
      "Number of pairs of rooks that attack each other: 4\n"
     ]
    }
   ],
   "source": [
    "n = 8\n",
    "rooks = [(0, 0), (1, 1), (2, 0), (1, 2), (2, 2), (3, 3)]\n",
    "attacking_pairs = count_attacking_rook_pairs(n, rooks)\n",
    "print(\"Number of pairs of rooks that attack each other:\", attacking_pairs)"
   ]
  },
  {
   "cell_type": "code",
   "execution_count": null,
   "id": "a6fddd85",
   "metadata": {},
   "outputs": [],
   "source": []
  }
 ],
 "metadata": {
  "kernelspec": {
   "display_name": "Python 3 (ipykernel)",
   "language": "python",
   "name": "python3"
  },
  "language_info": {
   "codemirror_mode": {
    "name": "ipython",
    "version": 3
   },
   "file_extension": ".py",
   "mimetype": "text/x-python",
   "name": "python",
   "nbconvert_exporter": "python",
   "pygments_lexer": "ipython3",
   "version": "3.9.7"
  }
 },
 "nbformat": 4,
 "nbformat_minor": 5
}
