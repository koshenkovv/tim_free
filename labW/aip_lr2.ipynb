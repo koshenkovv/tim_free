{
 "cells": [
  {
   "cell_type": "markdown",
   "metadata": {},
   "source": [
    "Сортировка выбором"
   ]
  },
  {
   "cell_type": "code",
   "execution_count": 12,
   "metadata": {},
   "outputs": [],
   "source": [
    "from random import randint"
   ]
  },
  {
   "cell_type": "code",
   "execution_count": 13,
   "metadata": {},
   "outputs": [],
   "source": [
    "def sort(mas):\n",
    "    for i in range(len(mas) - 1):\n",
    "        el = i\n",
    "        j = i + 1\n",
    "        while (j < len(mas)):\n",
    "            if (mas[j] < mas[el]):\n",
    "                el = j\n",
    "            j = j + 1\n",
    "        mas[i], mas[el] = mas[el], mas[i]"
   ]
  },
  {
   "cell_type": "code",
   "execution_count": 16,
   "metadata": {},
   "outputs": [
    {
     "name": "stdout",
     "output_type": "stream",
     "text": [
      "[64, 41, 29, 90, 23, 59, 22, 17, 84, 83]\n"
     ]
    }
   ],
   "source": [
    "mas = []\n",
    "for i in range(10):\n",
    "    mas.append(randint(1, 99))\n",
    "print(mas)"
   ]
  },
  {
   "cell_type": "code",
   "execution_count": 17,
   "metadata": {},
   "outputs": [
    {
     "name": "stdout",
     "output_type": "stream",
     "text": [
      "[17, 22, 23, 29, 41, 59, 64, 83, 84, 90]\n"
     ]
    }
   ],
   "source": [
    "sort(mas)\n",
    "print(mas)"
   ]
  }
 ],
 "metadata": {
  "kernelspec": {
   "display_name": "Python 3",
   "language": "python",
   "name": "python3"
  },
  "language_info": {
   "codemirror_mode": {
    "name": "ipython",
    "version": 3
   },
   "file_extension": ".py",
   "mimetype": "text/x-python",
   "name": "python",
   "nbconvert_exporter": "python",
   "pygments_lexer": "ipython3",
   "version": "3.8.3"
  }
 },
 "nbformat": 4,
 "nbformat_minor": 4
}
