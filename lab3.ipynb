{
 "cells": [
  {
   "cell_type": "markdown",
   "id": "c0113958",
   "metadata": {},
   "source": [
    "Задача продавец"
   ]
  },
  {
   "cell_type": "code",
   "execution_count": 1,
   "id": "fbc2a581",
   "metadata": {},
   "outputs": [
    {
     "name": "stdout",
     "output_type": "stream",
     "text": [
      "Кол-во покупателей: 5\n",
      "5\n"
     ]
    }
   ],
   "source": [
    "col = int(input('Кол-во покупателей: '))\n",
    "print(col)"
   ]
  },
  {
   "cell_type": "code",
   "execution_count": 2,
   "id": "ccbfa364",
   "metadata": {},
   "outputs": [
    {
     "name": "stdout",
     "output_type": "stream",
     "text": [
      "Я даю вам: 25\n",
      "Билет продан\n",
      "[25]\n",
      "Я даю вам: 25\n",
      "Билет продан\n",
      "[25, 25]\n",
      "Я даю вам: 50\n",
      "Билет продан\n",
      "[25, 50]\n",
      "Я даю вам: 50\n",
      "Билет продан\n",
      "[50, 50]\n",
      "Я даю вам: 100\n",
      "У меня нет сдачи\n"
     ]
    }
   ],
   "source": [
    "wallet=[]\n",
    "for i in range (col):\n",
    "    bil = int(input('Я даю вам: '))\n",
    "    if bil == 25:\n",
    "        wallet.append(bil)\n",
    "        print('Билет продан')\n",
    "        print(wallet)\n",
    "    elif bil == 50:\n",
    "        if (25 in wallet):\n",
    "                wallet.append(50)\n",
    "                wallet.remove(25)\n",
    "                print('Билет продан')\n",
    "                print(wallet)\n",
    "        else:\n",
    "            print('У меня нет сдачи')\n",
    "    elif bil == 100:\n",
    "        if ((50 in wallet)&(25 in wallet)):\n",
    "            wallet.append(100)\n",
    "            wallet.remove(50)\n",
    "            wallet.remove(25)\n",
    "            print('Билет продан')\n",
    "            print(wallet)\n",
    "        elif (wallet.count(25)==3):\n",
    "            wallet.append(100)\n",
    "            wallet.remove(25)\n",
    "            wallet.remove(25)\n",
    "            wallet.remove(25)\n",
    "            print('Билет продан')\n",
    "            print(wallet)\n",
    "        else:\n",
    "            print('У меня нет сдачи')\n"
   ]
  },
  {
   "cell_type": "markdown",
   "id": "f061e97d",
   "metadata": {},
   "source": [
    "3-3 средняя совокупность"
   ]
  },
  {
   "cell_type": "code",
   "execution_count": 18,
   "id": "745e70b0",
   "metadata": {},
   "outputs": [
    {
     "data": {
      "text/plain": [
       "4.5"
      ]
     },
     "execution_count": 18,
     "metadata": {},
     "output_type": "execute_result"
    }
   ],
   "source": [
    "def sredSovok(sov):\n",
    "    sumx=sum(sov)\n",
    "    n=len(sov)\n",
    "    x=sumx/n\n",
    "    return x\n",
    "\n",
    "sovokyp=[1,2,3,4,5,6,7,8]\n",
    "sredSovok(sovokyp)"
   ]
  },
  {
   "cell_type": "markdown",
   "id": "54c3bd7f",
   "metadata": {},
   "source": [
    "3-3 дисперсия совокупности\n"
   ]
  },
  {
   "cell_type": "code",
   "execution_count": 19,
   "id": "1a0ae35d",
   "metadata": {},
   "outputs": [
    {
     "data": {
      "text/plain": [
       "5.25"
      ]
     },
     "execution_count": 19,
     "metadata": {},
     "output_type": "execute_result"
    }
   ],
   "source": [
    "def disper(sov):\n",
    "    sred = sum(sov)/len(sov)\n",
    "    var = sum((x-sred)**2 for x in sov) / len(sov)\n",
    "    return var\n",
    "\n",
    "disper(sovokyp)"
   ]
  },
  {
   "cell_type": "code",
   "execution_count": null,
   "id": "94bee948",
   "metadata": {},
   "outputs": [],
   "source": []
  }
 ],
 "metadata": {
  "kernelspec": {
   "display_name": "Python 3 (ipykernel)",
   "language": "python",
   "name": "python3"
  },
  "language_info": {
   "codemirror_mode": {
    "name": "ipython",
    "version": 3
   },
   "file_extension": ".py",
   "mimetype": "text/x-python",
   "name": "python",
   "nbconvert_exporter": "python",
   "pygments_lexer": "ipython3",
   "version": "3.9.7"
  }
 },
 "nbformat": 4,
 "nbformat_minor": 5
}
